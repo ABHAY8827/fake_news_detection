{
 "cells": [
  {
   "cell_type": "markdown",
   "id": "5c690bb6",
   "metadata": {},
   "source": [
    "# FAKE_NEWS_DETECTION(NLP) "
   ]
  },
  {
   "cell_type": "code",
   "execution_count": null,
   "id": "e8544002",
   "metadata": {},
   "outputs": [],
   "source": [
    "import pandas as pd "
   ]
  },
  {
   "cell_type": "code",
   "execution_count": null,
   "id": "6cc02feb",
   "metadata": {},
   "outputs": [],
   "source": [
    "data=pd.read_csv('news.csv')"
   ]
  },
  {
   "cell_type": "code",
   "execution_count": null,
   "id": "2b7db20b",
   "metadata": {},
   "outputs": [],
   "source": [
    "data.head(10)"
   ]
  },
  {
   "cell_type": "code",
   "execution_count": null,
   "id": "65594517",
   "metadata": {},
   "outputs": [],
   "source": [
    "data.shape"
   ]
  },
  {
   "cell_type": "markdown",
   "id": "611daa4b",
   "metadata": {},
   "source": [
    "## Cleaning data"
   ]
  },
  {
   "cell_type": "code",
   "execution_count": null,
   "id": "ddf88823",
   "metadata": {},
   "outputs": [],
   "source": [
    "# now we can see Unnamed: 0 column that is no use \n",
    "# and droping title that is just heading of text"
   ]
  },
  {
   "cell_type": "code",
   "execution_count": null,
   "id": "aeeeba96",
   "metadata": {},
   "outputs": [],
   "source": [
    "data.drop(['Unnamed: 0','title'],axis=1,inplace=True)"
   ]
  },
  {
   "cell_type": "code",
   "execution_count": null,
   "id": "7e5ce076",
   "metadata": {},
   "outputs": [],
   "source": [
    "data.head()"
   ]
  },
  {
   "cell_type": "code",
   "execution_count": null,
   "id": "2a9c8ccb",
   "metadata": {},
   "outputs": [],
   "source": [
    "# we can now check for Nan value"
   ]
  },
  {
   "cell_type": "code",
   "execution_count": null,
   "id": "1903bc82",
   "metadata": {},
   "outputs": [],
   "source": [
    "data.isnull().sum()"
   ]
  },
  {
   "cell_type": "code",
   "execution_count": null,
   "id": "e0cd411f",
   "metadata": {},
   "outputs": [],
   "source": [
    "# now changing label as it is Categorical data we have to change it to numeric value(0,1).\n",
    "# we can change it by different encoder technique like labelencoder or one hot encoder but,binary \n",
    "# this can be done with replace method also."
   ]
  },
  {
   "cell_type": "code",
   "execution_count": null,
   "id": "b4be7440",
   "metadata": {},
   "outputs": [],
   "source": [
    "data.label.replace(('FAKE','REAL'),(0,1),inplace=True)"
   ]
  },
  {
   "cell_type": "code",
   "execution_count": null,
   "id": "9fc156b7",
   "metadata": {},
   "outputs": [],
   "source": [
    "data.head()"
   ]
  },
  {
   "cell_type": "code",
   "execution_count": null,
   "id": "9314283c",
   "metadata": {},
   "outputs": [],
   "source": [
    "X=data.drop('label',axis=1)\n",
    "Y=data['label']"
   ]
  },
  {
   "cell_type": "markdown",
   "id": "5f7dffbf",
   "metadata": {},
   "source": [
    "### visualization"
   ]
  },
  {
   "cell_type": "code",
   "execution_count": null,
   "id": "51739cef",
   "metadata": {},
   "outputs": [],
   "source": [
    "import seaborn as sns \n",
    "sns.countplot(x='label',data=data)"
   ]
  },
  {
   "cell_type": "markdown",
   "id": "53db6765",
   "metadata": {},
   "source": [
    "###### label is evenly distributed good to go ahead"
   ]
  },
  {
   "cell_type": "code",
   "execution_count": null,
   "id": "a2d3d1f1",
   "metadata": {},
   "outputs": [],
   "source": [
    "# now using Natural language processing"
   ]
  },
  {
   "cell_type": "code",
   "execution_count": null,
   "id": "f5369fc8",
   "metadata": {},
   "outputs": [],
   "source": [
    "import re  # regular pattern of regualr expression are created and we can escape some data which is not needed"
   ]
  },
  {
   "cell_type": "code",
   "execution_count": null,
   "id": "d1ac94a2",
   "metadata": {},
   "outputs": [],
   "source": [
    "from nltk.corpus import stopwords \n",
    "from nltk.stem.porter import PorterStemmer\n",
    "ps= PorterStemmer()\n",
    "corpus = []\n",
    "for i in range(len(data)):\n",
    "    review=re.sub('[^a-z-A-Z]', ' ',data['text'][i])\n",
    "    review=review.lower()\n",
    "    review=review.split()\n",
    "    \n",
    "    review=[ps.stem(word) for word in review if not word in stopwords.words('english')]\n",
    "    review= ' '.join(review)\n",
    "    corpus.append(review)"
   ]
  },
  {
   "cell_type": "code",
   "execution_count": null,
   "id": "cbf04a04",
   "metadata": {},
   "outputs": [],
   "source": [
    "corpus"
   ]
  },
  {
   "cell_type": "code",
   "execution_count": null,
   "id": "53f0fbfe",
   "metadata": {},
   "outputs": [],
   "source": [
    "from sklearn.feature_extraction.text import TfidfVectorizer\n",
    "tfidf_v=TfidfVectorizer(max_features=5000,ngram_range=(1,3))\n",
    "X= tfidf_v.fit_transform(corpus).toarray()"
   ]
  },
  {
   "cell_type": "code",
   "execution_count": null,
   "id": "50a87090",
   "metadata": {},
   "outputs": [],
   "source": [
    "X"
   ]
  },
  {
   "cell_type": "markdown",
   "id": "1e542d8e",
   "metadata": {},
   "source": [
    "### splitting dataset by train_test_split"
   ]
  },
  {
   "cell_type": "code",
   "execution_count": null,
   "id": "b39489d5",
   "metadata": {},
   "outputs": [],
   "source": [
    "from sklearn.model_selection import train_test_split"
   ]
  },
  {
   "cell_type": "code",
   "execution_count": null,
   "id": "44607fc9",
   "metadata": {},
   "outputs": [],
   "source": [
    "X_train, X_test, Y_train, Y_test = train_test_split(X,Y,test_size=0.25,random_state=0)"
   ]
  },
  {
   "cell_type": "code",
   "execution_count": null,
   "id": "b061bf55",
   "metadata": {},
   "outputs": [],
   "source": [
    "Y_test.head()"
   ]
  },
  {
   "cell_type": "markdown",
   "id": "834fb3e4",
   "metadata": {},
   "source": [
    "tfidf_v.get_feature_names()[:20]"
   ]
  },
  {
   "cell_type": "code",
   "execution_count": null,
   "id": "865099a9",
   "metadata": {},
   "outputs": [],
   "source": [
    "tfidf_v.get_params()"
   ]
  },
  {
   "cell_type": "code",
   "execution_count": null,
   "id": "67e966da",
   "metadata": {},
   "outputs": [],
   "source": [
    "import warnings\n",
    "warnings.simplefilter(\"ignore\")"
   ]
  },
  {
   "cell_type": "code",
   "execution_count": null,
   "id": "648737a8",
   "metadata": {},
   "outputs": [],
   "source": [
    "count_data=pd.DataFrame(X_train, columns=tfidf_v.get_feature_names())"
   ]
  },
  {
   "cell_type": "code",
   "execution_count": null,
   "id": "1c5f9b68",
   "metadata": {},
   "outputs": [],
   "source": [
    "count_data.head()"
   ]
  },
  {
   "cell_type": "code",
   "execution_count": null,
   "id": "34963ac7",
   "metadata": {},
   "outputs": [],
   "source": [
    "import matplotlib.pyplot as plt"
   ]
  },
  {
   "cell_type": "code",
   "execution_count": null,
   "id": "cdf56dec",
   "metadata": {},
   "outputs": [],
   "source": [
    "def plot_confusion_matrix(cm, classes, normalize=False,\n",
    "                         title='Confusion matrix', \n",
    "                         cmap=plt.cm.Blues):\n",
    "    plt.imshow(cm, interpolation='nearest', cmap=cmap)\n",
    "    plt.title(title)\n",
    "    plt.colorbar()\n",
    "    tick_marks=np.arange(len(classes))\n",
    "    plt.xticks(tick_marks, classes, rotation=45)\n",
    "    plt.yticks(tick_marks, classes)\n",
    "    \n",
    "    if normalize:\n",
    "        cm = cm.astype('float') / cm.sum(axis=1)[:, np.newaxis]\n",
    "        print(\"Normalized confusion matrix\")\n",
    "    else:\n",
    "        print('Confusion matrix, without normalization')\n",
    "\n",
    "    print(cm)\n",
    "\n",
    "    thresh = cm.max() / 2.\n",
    "    for i, j in itertools.product(range(cm.shape[0]), range(cm.shape[1])):\n",
    "        plt.text(j, i, cm[i, j],\n",
    "            horizontalalignment=\"center\",\n",
    "            color=\"white\" if cm[i, j] > thresh else \"black\")\n",
    "        \n",
    "    plt.tight_layout()\n",
    "    plt.ylabel('True label')\n",
    "    plt.xlabel('Predicted label')"
   ]
  },
  {
   "cell_type": "markdown",
   "id": "aae2875e",
   "metadata": {},
   "source": [
    "# Multinomial Naive-Bayes Algorithm"
   ]
  },
  {
   "cell_type": "code",
   "execution_count": null,
   "id": "7f019d79",
   "metadata": {},
   "outputs": [],
   "source": [
    "from sklearn.naive_bayes import MultinomialNB\n",
    "classifier=MultinomialNB()"
   ]
  },
  {
   "cell_type": "code",
   "execution_count": null,
   "id": "ea49bd53",
   "metadata": {},
   "outputs": [],
   "source": [
    "import numpy as np\n",
    "import itertools\n",
    "from sklearn.metrics import accuracy_score,confusion_matrix"
   ]
  },
  {
   "cell_type": "code",
   "execution_count": null,
   "id": "0c4e4c67",
   "metadata": {},
   "outputs": [],
   "source": [
    "classifier.fit(X_train,Y_train)\n",
    "pred=classifier.predict(X_test)\n",
    "score=accuracy_score(Y_test, pred)*100\n",
    "print(\"accuracy:   %0.3f\"% score)\n",
    "cm=confusion_matrix(Y_test, pred)\n",
    "plot_confusion_matrix(cm, classes=[\"FAKE\",\"REAL\"])"
   ]
  },
  {
   "cell_type": "code",
   "execution_count": null,
   "id": "c23fee8b",
   "metadata": {},
   "outputs": [],
   "source": [
    "# Multinomial classifier with hyperparameter(HYPERTUNING) of naive bayes"
   ]
  },
  {
   "cell_type": "code",
   "execution_count": null,
   "id": "9ddda557",
   "metadata": {},
   "outputs": [],
   "source": [
    "classifier=MultinomialNB(alpha=0.1)"
   ]
  },
  {
   "cell_type": "code",
   "execution_count": null,
   "id": "66c4f099",
   "metadata": {},
   "outputs": [],
   "source": [
    "previous_score=0\n",
    "for alpha in np.arange(0,1,0.1):\n",
    "    sub_classifier=MultinomialNB(alpha=alpha)\n",
    "    sub_classifier.fit(X_train,Y_train)\n",
    "    y_pred=sub_classifier.predict(X_test)\n",
    "    score=accuracy_score(Y_test,y_pred)\n",
    "    if score>previous_score:\n",
    "        classifier=sub_classifier\n",
    "    print(\"Alpha: {},Score: {}\".format(alpha,score))"
   ]
  },
  {
   "cell_type": "code",
   "execution_count": null,
   "id": "e76c15f7",
   "metadata": {},
   "outputs": [],
   "source": [
    "# for alpha=0 applying naive-bayes"
   ]
  },
  {
   "cell_type": "code",
   "execution_count": null,
   "id": "4df4a0df",
   "metadata": {},
   "outputs": [],
   "source": [
    "classifier=MultinomialNB(alpha=0)\n",
    "classifier.fit(X_train,Y_train)\n",
    "pred=classifier.predict(X_test)\n",
    "score=accuracy_score(Y_test, pred)*100\n",
    "print(\"accuracy:   %0.3f\"% score)\n",
    "cm=confusion_matrix(Y_test, pred)\n",
    "plot_confusion_matrix(cm, classes=[\"FAKE\",\"REAL\"])"
   ]
  },
  {
   "cell_type": "markdown",
   "id": "51d6a5a9",
   "metadata": {},
   "source": [
    "## Passive aggreesive classifier algorithm"
   ]
  },
  {
   "cell_type": "code",
   "execution_count": null,
   "id": "19e7678b",
   "metadata": {},
   "outputs": [],
   "source": [
    "from sklearn.linear_model import PassiveAggressiveClassifier\n",
    "linear_clf = PassiveAggressiveClassifier(n_iter_no_change=50)"
   ]
  },
  {
   "cell_type": "code",
   "execution_count": null,
   "id": "fca5cd93",
   "metadata": {},
   "outputs": [],
   "source": [
    "linear_clf.fit(X_train,Y_train)\n",
    "pred = linear_clf.predict(X_test)\n",
    "score=accuracy_score(Y_test, pred)*100\n",
    "print(\"accuracy:   %0.3f\"% score)\n",
    "cm=confusion_matrix(Y_test, pred)\n",
    "plot_confusion_matrix(cm, classes=[\"FAKE DATA\",\"REAL DATA\"])"
   ]
  },
  {
   "cell_type": "code",
   "execution_count": null,
   "id": "ab3d6717",
   "metadata": {},
   "outputs": [],
   "source": [
    "feature_names=tfidf_v.get_feature_names()"
   ]
  },
  {
   "cell_type": "code",
   "execution_count": null,
   "id": "bc4da264",
   "metadata": {},
   "outputs": [],
   "source": [
    "#most fake\n",
    "sorted(zip(classifier.coef_[0],feature_names))[:20]"
   ]
  },
  {
   "cell_type": "code",
   "execution_count": null,
   "id": "ee527730",
   "metadata": {},
   "outputs": [],
   "source": [
    "#save_model\n",
    "import pickle\n",
    "filename= 'fake_news.pkl'\n",
    "pickle.dump(linear_clf, open(filename, 'wb'))"
   ]
  },
  {
   "cell_type": "code",
   "execution_count": null,
   "id": "c2ee8cf4",
   "metadata": {},
   "outputs": [],
   "source": []
  }
 ],
 "metadata": {
  "kernelspec": {
   "display_name": "Python 3",
   "language": "python",
   "name": "python3"
  },
  "language_info": {
   "codemirror_mode": {
    "name": "ipython",
    "version": 3
   },
   "file_extension": ".py",
   "mimetype": "text/x-python",
   "name": "python",
   "nbconvert_exporter": "python",
   "pygments_lexer": "ipython3",
   "version": "3.8.8"
  }
 },
 "nbformat": 4,
 "nbformat_minor": 5
}
